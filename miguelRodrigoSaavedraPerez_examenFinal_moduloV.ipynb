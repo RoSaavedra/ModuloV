{
 "cells": [
  {
   "cell_type": "markdown",
   "metadata": {},
   "source": [
    "### EXAMEN FINAL\n",
    "$\\textbf{Data Science and Machine Learning Applied to Financial Markets}$\n",
    "\n",
    "Miguel Rodrigo Saavedra Pérez\n",
    "\n",
    "El objetivo del examen final es construir un portafolio riesgoso con 7 acciones e invertir en un\n",
    "portafolio completo que maximice tu utilidad.  \n",
    "\n",
    "Considera una tasa libre de riesgo de 5.0%  \n",
    "Un premio por riesgo de mercado de 10.0%  \n",
    "Un nivel de aversión al riesgo A=3\n",
    "\n",
    "Para las 7 acciones seleccionadas, calcula:\n",
    "1. Rendimiento esperado diario y anual bajo los siguientes modelos:  \n",
    "a. Modelo de rendimiento promedio constante  \n",
    "b. Modelo CAPM  \n",
    "i. ¿Cuál es la beta de cada acción?  \n",
    "ii. Clasifica las acciones en defensivas y agresivas  \n",
    "2. Matriz varianza - covarianza  \n",
    "Utilizando los rendimientos esperados bajo el modelo CAPM, construye:  \n",
    "3. Frontera de carteras de mínima varianza y frontera eficiente / graficar  \n",
    "4. Encuentra el portafolio riesgoso óptimo (maximiza el coeficiente de Sharpe)  \n",
    "5. Elige los porcentajes a invertir en el portafolio riesgoso óptimo y el activo libre de riesgo  "
   ]
  },
  {
   "cell_type": "code",
   "execution_count": 1,
   "metadata": {},
   "outputs": [],
   "source": [
    "import pandas as pd\n",
    "import numpy as np\n",
    "import matplotlib.pyplot as plt\n",
    "import seaborn as sns\n",
    "from scipy.optimize import minimize\n",
    "import statsmodels.api as sm"
   ]
  },
  {
   "cell_type": "code",
   "execution_count": 2,
   "metadata": {},
   "outputs": [],
   "source": [
    "#Cargamos información de precios\n",
    "market=pd.read_excel(\"Prueba.xlsx\", index_col=0)"
   ]
  },
  {
   "cell_type": "code",
   "execution_count": 3,
   "metadata": {},
   "outputs": [
    {
     "name": "stdout",
     "output_type": "stream",
     "text": [
      "Acción 1: WALMEX*\n",
      "Acción 2: IENOVA*\n",
      "Acción 3: CUERVO*\n",
      "Acción 4: ELEKTRA*\n",
      "Acción 5: BIMBOA\n",
      "Acción 6: ALSEA*\n",
      "Acción 7: GFNORTEO\n"
     ]
    }
   ],
   "source": [
    "#Calculamos el cambio y limpiamos el nombre de cada uno de los emisores e índices\n",
    "rets=market.pct_change() .dropna(axis=0)\n",
    "rets.columns=[col.replace(\"MF Equity\", \"\") for col in rets.columns]\n",
    "rets.columns=[col.replace(\" \", \"\") for col in rets.columns]\n",
    "\n",
    "#Seleccionamos las siguientes acciones\n",
    "rets=rets[[\"WALMEX*\", \"IENOVA*\", \"CUERVO*\", \"ELEKTRA*\", \"BIMBOA\", \"ALSEA*\", \"GFNORTEO\", \"MEXBOLINDEX\"]]\n",
    "#Acciones seleccionadas\n",
    "i=0\n",
    "for c in rets.columns[:-1]:\n",
    "    i+=1\n",
    "    print(f\"Acción {i}: {c}\")\n",
    "    \n",
    "#Longitud de cada vector\n",
    "N=len(rets)"
   ]
  },
  {
   "cell_type": "markdown",
   "metadata": {},
   "source": [
    "### 1. Rendimiento diario y anual"
   ]
  },
  {
   "cell_type": "markdown",
   "metadata": {},
   "source": [
    "$\\textbf{a. Modelo de rendimiento promedio constante}$"
   ]
  },
  {
   "cell_type": "code",
   "execution_count": 4,
   "metadata": {},
   "outputs": [
    {
     "name": "stdout",
     "output_type": "stream",
     "text": [
      "Rendimientos diarios:\n",
      "WALMEX*        0.000493\n",
      "IENOVA*        0.000153\n",
      "CUERVO*        0.000200\n",
      "ELEKTRA*       0.000987\n",
      "BIMBOA        -0.000281\n",
      "ALSEA*        -0.000299\n",
      "GFNORTEO       0.000193\n",
      "MEXBOLINDEX   -0.000111\n",
      "dtype: float64\n",
      "\n",
      "\n",
      "Rendimientos anuales:\n",
      "WALMEX*        0.124216\n",
      "IENOVA*        0.038623\n",
      "CUERVO*        0.050462\n",
      "ELEKTRA*       0.248633\n",
      "BIMBOA        -0.070693\n",
      "ALSEA*        -0.075260\n",
      "GFNORTEO       0.048631\n",
      "MEXBOLINDEX   -0.027950\n",
      "dtype: float64\n",
      "\n"
     ]
    }
   ],
   "source": [
    "#Rendimiento diario\n",
    "rend_ports_d = rets.mean()\n",
    "#Rendimiento anual\n",
    "rend_ports_a = rets.mean()*252\n",
    "\n",
    "print(f'Rendimientos diarios:\\n{rend_ports_d}\\n\\n')\n",
    "print(f'Rendimientos anuales:\\n{rend_ports_a}\\n')"
   ]
  },
  {
   "cell_type": "markdown",
   "metadata": {},
   "source": [
    "$\\textbf{b. Modelo CAPM}$"
   ]
  },
  {
   "cell_type": "code",
   "execution_count": 5,
   "metadata": {},
   "outputs": [],
   "source": [
    "#Definimos parámetros iniciales\n",
    "#Tasa libre de riesgo anual\n",
    "tLR_a=0.05\n",
    "#Tasa libre de riesgo diaria\n",
    "tLR_d=tLR_a/252\n",
    "#Premio anual\n",
    "premio_a=0.1\n",
    "#Premio diario\n",
    "premio_d=premio_a/252\n",
    "#índice de mercado\n",
    "index = rets[[\"MEXBOLINDEX\"]].iloc[:,-1]"
   ]
  },
  {
   "cell_type": "markdown",
   "metadata": {},
   "source": [
    "i. ¿Cuál es la beta de cada acción?  \n",
    "ii. Clasifica las acciones en defensivas y agresivas"
   ]
  },
  {
   "cell_type": "code",
   "execution_count": 6,
   "metadata": {},
   "outputs": [
    {
     "name": "stderr",
     "output_type": "stream",
     "text": [
      "C:\\Users\\migro\\Anaconda3\\lib\\site-packages\\numpy\\core\\fromnumeric.py:2389: FutureWarning: Method .ptp is deprecated and will be removed in a future version. Use numpy.ptp instead.\n",
      "  return ptp(axis=axis, out=out, **kwargs)\n"
     ]
    },
    {
     "data": {
      "text/html": [
       "<div>\n",
       "<style scoped>\n",
       "    .dataframe tbody tr th:only-of-type {\n",
       "        vertical-align: middle;\n",
       "    }\n",
       "\n",
       "    .dataframe tbody tr th {\n",
       "        vertical-align: top;\n",
       "    }\n",
       "\n",
       "    .dataframe thead th {\n",
       "        text-align: right;\n",
       "    }\n",
       "</style>\n",
       "<table border=\"1\" class=\"dataframe\">\n",
       "  <thead>\n",
       "    <tr style=\"text-align: right;\">\n",
       "      <th></th>\n",
       "      <th>accion</th>\n",
       "      <th>Beta</th>\n",
       "      <th>rendimientoDiario</th>\n",
       "      <th>rendimientoAnual</th>\n",
       "      <th>posicion</th>\n",
       "    </tr>\n",
       "  </thead>\n",
       "  <tbody>\n",
       "    <tr>\n",
       "      <td>0</td>\n",
       "      <td>WALMEX*</td>\n",
       "      <td>0.884332</td>\n",
       "      <td>0.000549</td>\n",
       "      <td>0.138433</td>\n",
       "      <td>defensiva</td>\n",
       "    </tr>\n",
       "    <tr>\n",
       "      <td>1</td>\n",
       "      <td>IENOVA*</td>\n",
       "      <td>0.871632</td>\n",
       "      <td>0.000544</td>\n",
       "      <td>0.137163</td>\n",
       "      <td>defensiva</td>\n",
       "    </tr>\n",
       "    <tr>\n",
       "      <td>2</td>\n",
       "      <td>CUERVO*</td>\n",
       "      <td>0.348421</td>\n",
       "      <td>0.000337</td>\n",
       "      <td>0.084842</td>\n",
       "      <td>defensiva</td>\n",
       "    </tr>\n",
       "    <tr>\n",
       "      <td>3</td>\n",
       "      <td>ELEKTRA*</td>\n",
       "      <td>0.405733</td>\n",
       "      <td>0.000359</td>\n",
       "      <td>0.090573</td>\n",
       "      <td>defensiva</td>\n",
       "    </tr>\n",
       "    <tr>\n",
       "      <td>4</td>\n",
       "      <td>BIMBOA</td>\n",
       "      <td>0.884697</td>\n",
       "      <td>0.000549</td>\n",
       "      <td>0.138470</td>\n",
       "      <td>defensiva</td>\n",
       "    </tr>\n",
       "    <tr>\n",
       "      <td>5</td>\n",
       "      <td>ALSEA*</td>\n",
       "      <td>0.792074</td>\n",
       "      <td>0.000513</td>\n",
       "      <td>0.129207</td>\n",
       "      <td>defensiva</td>\n",
       "    </tr>\n",
       "    <tr>\n",
       "      <td>6</td>\n",
       "      <td>GFNORTEO</td>\n",
       "      <td>1.595640</td>\n",
       "      <td>0.000832</td>\n",
       "      <td>0.209564</td>\n",
       "      <td>agresiva</td>\n",
       "    </tr>\n",
       "  </tbody>\n",
       "</table>\n",
       "</div>"
      ],
      "text/plain": [
       "     accion      Beta  rendimientoDiario  rendimientoAnual   posicion\n",
       "0   WALMEX*  0.884332           0.000549          0.138433  defensiva\n",
       "1   IENOVA*  0.871632           0.000544          0.137163  defensiva\n",
       "2   CUERVO*  0.348421           0.000337          0.084842  defensiva\n",
       "3  ELEKTRA*  0.405733           0.000359          0.090573  defensiva\n",
       "4    BIMBOA  0.884697           0.000549          0.138470  defensiva\n",
       "5    ALSEA*  0.792074           0.000513          0.129207  defensiva\n",
       "6  GFNORTEO  1.595640           0.000832          0.209564   agresiva"
      ]
     },
     "execution_count": 6,
     "metadata": {},
     "output_type": "execute_result"
    }
   ],
   "source": [
    "#Calculamos betas\n",
    "Y = sm.add_constant(index-(tLR_d))\n",
    "b=[]\n",
    "for i in rets.columns:\n",
    "    m = sm.OLS(rets[i]-(tLR_d),Y).fit()\n",
    "    b.append(m.params[1])\n",
    "#Calculamos rendimientos diarios y anuales: Asumimos una posición\n",
    "df=pd.DataFrame({\"accion\":rets.columns[:-1],\"Beta\": b[:-1]})\n",
    "df[\"rendimientoDiario\"] = (tLR_d) + df[\"Beta\"]*(premio_d)\n",
    "df[\"rendimientoAnual\"] = df[\"rendimientoDiario\"]*252\n",
    "df[\"posicion\"] = np.where(df['Beta']>1, 'agresiva', 'defensiva')\n",
    "df"
   ]
  },
  {
   "cell_type": "markdown",
   "metadata": {},
   "source": [
    "### 2. Matriz varianza - covarianza"
   ]
  },
  {
   "cell_type": "code",
   "execution_count": 7,
   "metadata": {},
   "outputs": [
    {
     "data": {
      "text/html": [
       "<div>\n",
       "<style scoped>\n",
       "    .dataframe tbody tr th:only-of-type {\n",
       "        vertical-align: middle;\n",
       "    }\n",
       "\n",
       "    .dataframe tbody tr th {\n",
       "        vertical-align: top;\n",
       "    }\n",
       "\n",
       "    .dataframe thead th {\n",
       "        text-align: right;\n",
       "    }\n",
       "</style>\n",
       "<table border=\"1\" class=\"dataframe\">\n",
       "  <thead>\n",
       "    <tr style=\"text-align: right;\">\n",
       "      <th></th>\n",
       "      <th>WALMEX*</th>\n",
       "      <th>IENOVA*</th>\n",
       "      <th>CUERVO*</th>\n",
       "      <th>ELEKTRA*</th>\n",
       "      <th>BIMBOA</th>\n",
       "      <th>ALSEA*</th>\n",
       "      <th>GFNORTEO</th>\n",
       "    </tr>\n",
       "  </thead>\n",
       "  <tbody>\n",
       "    <tr>\n",
       "      <td>WALMEX*</td>\n",
       "      <td>0.000219</td>\n",
       "      <td>0.000052</td>\n",
       "      <td>0.000026</td>\n",
       "      <td>0.000030</td>\n",
       "      <td>0.000051</td>\n",
       "      <td>0.000049</td>\n",
       "      <td>0.000089</td>\n",
       "    </tr>\n",
       "    <tr>\n",
       "      <td>IENOVA*</td>\n",
       "      <td>0.000052</td>\n",
       "      <td>0.000261</td>\n",
       "      <td>0.000029</td>\n",
       "      <td>0.000029</td>\n",
       "      <td>0.000052</td>\n",
       "      <td>0.000064</td>\n",
       "      <td>0.000100</td>\n",
       "    </tr>\n",
       "    <tr>\n",
       "      <td>CUERVO*</td>\n",
       "      <td>0.000026</td>\n",
       "      <td>0.000029</td>\n",
       "      <td>0.000217</td>\n",
       "      <td>0.000013</td>\n",
       "      <td>0.000025</td>\n",
       "      <td>0.000037</td>\n",
       "      <td>0.000044</td>\n",
       "    </tr>\n",
       "    <tr>\n",
       "      <td>ELEKTRA*</td>\n",
       "      <td>0.000030</td>\n",
       "      <td>0.000029</td>\n",
       "      <td>0.000013</td>\n",
       "      <td>0.000318</td>\n",
       "      <td>0.000048</td>\n",
       "      <td>0.000025</td>\n",
       "      <td>0.000025</td>\n",
       "    </tr>\n",
       "    <tr>\n",
       "      <td>BIMBOA</td>\n",
       "      <td>0.000051</td>\n",
       "      <td>0.000052</td>\n",
       "      <td>0.000025</td>\n",
       "      <td>0.000048</td>\n",
       "      <td>0.000234</td>\n",
       "      <td>0.000067</td>\n",
       "      <td>0.000075</td>\n",
       "    </tr>\n",
       "    <tr>\n",
       "      <td>ALSEA*</td>\n",
       "      <td>0.000049</td>\n",
       "      <td>0.000064</td>\n",
       "      <td>0.000037</td>\n",
       "      <td>0.000025</td>\n",
       "      <td>0.000067</td>\n",
       "      <td>0.000241</td>\n",
       "      <td>0.000088</td>\n",
       "    </tr>\n",
       "    <tr>\n",
       "      <td>GFNORTEO</td>\n",
       "      <td>0.000089</td>\n",
       "      <td>0.000100</td>\n",
       "      <td>0.000044</td>\n",
       "      <td>0.000025</td>\n",
       "      <td>0.000075</td>\n",
       "      <td>0.000088</td>\n",
       "      <td>0.000381</td>\n",
       "    </tr>\n",
       "  </tbody>\n",
       "</table>\n",
       "</div>"
      ],
      "text/plain": [
       "           WALMEX*   IENOVA*   CUERVO*  ELEKTRA*    BIMBOA    ALSEA*  GFNORTEO\n",
       "WALMEX*   0.000219  0.000052  0.000026  0.000030  0.000051  0.000049  0.000089\n",
       "IENOVA*   0.000052  0.000261  0.000029  0.000029  0.000052  0.000064  0.000100\n",
       "CUERVO*   0.000026  0.000029  0.000217  0.000013  0.000025  0.000037  0.000044\n",
       "ELEKTRA*  0.000030  0.000029  0.000013  0.000318  0.000048  0.000025  0.000025\n",
       "BIMBOA    0.000051  0.000052  0.000025  0.000048  0.000234  0.000067  0.000075\n",
       "ALSEA*    0.000049  0.000064  0.000037  0.000025  0.000067  0.000241  0.000088\n",
       "GFNORTEO  0.000089  0.000100  0.000044  0.000025  0.000075  0.000088  0.000381"
      ]
     },
     "execution_count": 7,
     "metadata": {},
     "output_type": "execute_result"
    }
   ],
   "source": [
    "rets[[\"WALMEX*\", \"IENOVA*\", \"CUERVO*\", \"ELEKTRA*\", \"BIMBOA\", \"ALSEA*\", \"GFNORTEO\"]].cov()"
   ]
  },
  {
   "cell_type": "markdown",
   "metadata": {},
   "source": [
    "### 3. Frontera de carteras de mínima varianza y frontera eficiente / graficar  "
   ]
  },
  {
   "cell_type": "code",
   "execution_count": 8,
   "metadata": {},
   "outputs": [
    {
     "data": {
      "text/plain": [
       "(0.12027822202448965, 0.14151376585507552)"
      ]
     },
     "execution_count": 8,
     "metadata": {},
     "output_type": "execute_result"
    }
   ],
   "source": [
    "#Definimos funciones para evaluar el rendimiento esperado y la volatilidad\n",
    "def port_rend(weights, r):\n",
    "    E_p = (rendCAPM @ weights) * 252\n",
    "    return E_p\n",
    "\n",
    "def port_vol(weights, r):\n",
    "    S_p = np.sqrt(weights.T @ (r.cov() * 252) @ weights)\n",
    "    return S_p\n",
    "\n",
    "#Pesos aleatorios para las siete acciones\n",
    "weights = np.random.random(7)\n",
    "weights /= sum(weights)\n",
    "weights, sum(weights)\n",
    "\n",
    "#Rendimientos calculados en el CAPM\n",
    "rendCAPM = df['rendimientoDiario']\n",
    "rend=rets[[\"WALMEX*\", \"IENOVA*\", \"CUERVO*\", \"ELEKTRA*\", \"BIMBOA\", \"ALSEA*\", \"GFNORTEO\"]]\n",
    "#Rendimiento y volatilidad con pesos aleatorios\n",
    "port_rend(weights, rend), port_vol(weights, rend)\n"
   ]
  },
  {
   "cell_type": "code",
   "execution_count": 9,
   "metadata": {},
   "outputs": [],
   "source": [
    "#Simulación de pesos de portafolios\n",
    "weights_sim = np.random.random((5000,7))\n",
    "weights_sim=weights_sim/weights_sim.sum(axis=1, keepdims=True)\n",
    "\n",
    "#Simulación de rendimientos\n",
    "rend_sim = np.apply_along_axis(port_rend, 1, weights_sim, r=rend)\n",
    "#Simulación de volatilidad\n",
    "vol_sim = np.apply_along_axis(port_vol, 1, weights_sim, r=rend)\n",
    "#Sharpe Ratio\n",
    "sharpe_ratio = rend_sim / vol_sim"
   ]
  },
  {
   "cell_type": "code",
   "execution_count": 10,
   "metadata": {},
   "outputs": [
    {
     "data": {
      "image/png": "[encoded data removed]",
      "text/plain": [
       "<Figure size 1080x288 with 2 Axes>"
      ]
     },
     "metadata": {
      "needs_background": "light"
     },
     "output_type": "display_data"
    }
   ],
   "source": [
    "plt.subplots(nrows=1, ncols=1, figsize=(15, 4))\n",
    "plt.scatter(vol_sim, rend_sim, c=sharpe_ratio)\n",
    "plt.colorbar(label=\"Sharpe Ratio\")\n",
    "plt.xlabel(r\"$\\sigma^2_r$\", fontsize=13)\n",
    "plt.ylabel(\"E(r)\", fontsize=13);"
   ]
  },
  {
   "cell_type": "code",
   "execution_count": 11,
   "metadata": {},
   "outputs": [
    {
     "data": {
      "text/plain": [
       "     fun: 0.1351034169239107\n",
       "     jac: array([0.13499133, 0.13547212, 0.1348945 , 0.13542363, 0.13475528,\n",
       "       0.13520722, 0.13557775])\n",
       " message: 'Optimization terminated successfully.'\n",
       "    nfev: 93\n",
       "     nit: 10\n",
       "    njev: 10\n",
       "  status: 0\n",
       " success: True\n",
       "       x: array([0.18059388, 0.13024403, 0.24382225, 0.15612168, 0.14146473,\n",
       "       0.13047721, 0.01727623])"
      ]
     },
     "execution_count": 11,
     "metadata": {},
     "output_type": "execute_result"
    }
   ],
   "source": [
    "#Para crear la frontera eficiente\n",
    "N, M = rend.shape\n",
    "w0  = np.random.randn(M)\n",
    "\n",
    "def sum_weights(weights):\n",
    "    return weights.sum() - 1 # == 0\n",
    "\n",
    "def rend_esperado(w, E):\n",
    "    return port_rend(w, rend) - E # == 0\n",
    "\n",
    "constraints = [\n",
    "    {\"type\": \"eq\", \"fun\": sum_weights}\n",
    "]\n",
    "\n",
    "port0 = minimize(port_vol, w0, constraints=constraints, args=rend)\n",
    "port0"
   ]
  },
  {
   "cell_type": "code",
   "execution_count": 12,
   "metadata": {},
   "outputs": [
    {
     "data": {
      "text/plain": [
       "(0.11775940488179037,\n",
       " 0.1351034169239107,\n",
       " array([0.18059388, 0.13024403, 0.24382225, 0.15612168, 0.14146473,\n",
       "        0.13047721, 0.01727623]))"
      ]
     },
     "execution_count": 12,
     "metadata": {},
     "output_type": "execute_result"
    }
   ],
   "source": [
    "w_prt0 = port0.x\n",
    "port_rend(w_prt0,rend),port_vol(w_prt0,rend), w_prt0"
   ]
  },
  {
   "cell_type": "code",
   "execution_count": 13,
   "metadata": {},
   "outputs": [],
   "source": [
    "#Rango de frontera\n",
    "r_min=port_rend(w_prt0, rend)\n",
    "r_max=rend_ports_a.max()\n",
    "rend_max = np.linspace(r_min, r_max)\n",
    "\n",
    "#Generamos pesos optimos\n",
    "pesos_optimos = []\n",
    "for e in rend_max:\n",
    "    \n",
    "    constraints=[\n",
    "    {\"type\":\"eq\", \"fun\": sum_weights}, \n",
    "    {\"type\":\"eq\", \"fun\": lambda w: rend_esperado(w, e)}\n",
    "]\n",
    "\n",
    "    port1 = minimize(port_vol , w0 ,constraints=constraints, args=rend)\n",
    "    w_opt = port1.x\n",
    "    pesos_optimos.append(w_opt)"
   ]
  },
  {
   "cell_type": "code",
   "execution_count": 14,
   "metadata": {},
   "outputs": [
    {
     "data": {
      "text/plain": [
       "<matplotlib.collections.PathCollection at 0x29d8f5daa48>"
      ]
     },
     "execution_count": 14,
     "metadata": {},
     "output_type": "execute_result"
    },
    {
     "data": {
      "image/png": "[encoded data removed]",
      "text/plain": [
       "<Figure size 1080x288 with 2 Axes>"
      ]
     },
     "metadata": {
      "needs_background": "light"
     },
     "output_type": "display_data"
    }
   ],
   "source": [
    "r_opt = []\n",
    "v_opt = []\n",
    "\n",
    "for w in pesos_optimos:\n",
    "    r_opt.append(port_rend(w,rend))\n",
    "    v_opt.append(port_vol(w,rend))\n",
    "\n",
    "r_opt = np.array(r_opt)\n",
    "v_opt = np.array(v_opt)\n",
    "\n",
    "plt.subplots(nrows=1, ncols=1, figsize=(15, 4))\n",
    "plt.scatter(v_opt,r_opt, c= r_opt/v_opt,s=5)\n",
    "plt.scatter(vol_sim, rend_sim, c=sharpe_ratio, alpha = 0.5, s=0.9)\n",
    "plt.colorbar(label=\"Sharpe Ratio\",)\n",
    "plt.xlabel(r\"$\\sigma^2_r$\", fontsize=13)\n",
    "plt.ylabel(\"E(r)\",fontsize=13);\n",
    "plt.scatter(port_vol(w_prt0,rend),port_rend(w_prt0,rend),c=\"orange\", marker=\"+\")"
   ]
  },
  {
   "cell_type": "markdown",
   "metadata": {},
   "source": [
    "### 4. Encuentra el portafolio riesgoso óptimo (maximiza el coeficiente de Sharpe)  "
   ]
  },
  {
   "cell_type": "code",
   "execution_count": 15,
   "metadata": {},
   "outputs": [],
   "source": [
    "w0 = np.random.randn(M)\n",
    "\n",
    "def min_func_sharpe(weights):\n",
    "    return - (port_rend(weights, rend) - tLR_a)/(port_vol(weights,rend))\n",
    "\n",
    "constraints = [\n",
    "    {\"type\": \"eq\",\"fun\":sum_weights}\n",
    "]\n",
    "\n",
    "f_sharpe = minimize(min_func_sharpe, w0, constraints = constraints)\n",
    "w_sharpe = f_sharpe.x\n",
    "e_sharpe = port_rend(w_sharpe,rend)\n",
    "vol_sharpe = port_vol(w_sharpe, rend)\n",
    "\n",
    "sigma_c = np.linspace(0,0.25)\n",
    "sharpe = tLR_a + sigma_c * (e_sharpe - tLR_a) / vol_sharpe"
   ]
  },
  {
   "cell_type": "code",
   "execution_count": 16,
   "metadata": {},
   "outputs": [
    {
     "data": {
      "text/plain": [
       "<matplotlib.legend.Legend at 0x29d8f45ee48>"
      ]
     },
     "execution_count": 16,
     "metadata": {},
     "output_type": "execute_result"
    },
    {
     "data": {
      "image/png": "[encoded data removed]",
      "text/plain": [
       "<Figure size 1080x288 with 1 Axes>"
      ]
     },
     "metadata": {
      "needs_background": "light"
     },
     "output_type": "display_data"
    }
   ],
   "source": [
    "plt.subplots(nrows=1, ncols=1, figsize=(15, 4))\n",
    "plt.plot(sigma_c, sharpe, linestyle=\"--\", c=\"tab:orange\", label=\"Capital Allocation Line\")\n",
    "plt.scatter(v_opt, r_opt, c= r_opt/v_opt,s=5)\n",
    "plt.legend(fontsize=12)"
   ]
  },
  {
   "cell_type": "markdown",
   "metadata": {},
   "source": [
    "### 5. Elige los porcentajes a invertir en el portafolio riesgoso óptimo y el activo libre de riesgo  "
   ]
  },
  {
   "cell_type": "code",
   "execution_count": 17,
   "metadata": {},
   "outputs": [
    {
     "data": {
      "image/png": "[encoded data removed]",
      "text/plain": [
       "<Figure size 1080x288 with 2 Axes>"
      ]
     },
     "metadata": {
      "needs_background": "light"
     },
     "output_type": "display_data"
    }
   ],
   "source": [
    "plt.subplots(nrows=1, ncols=1, figsize=(15, 4))\n",
    "plt.plot(sigma_c,sharpe, linestyle = \"-\", c= \"tab:orange\",label = \"Capital Allocation Line\")\n",
    "plt.scatter(v_opt,r_opt, c= r_opt/v_opt,s=5)\n",
    "plt.colorbar(label=\"Sharpe Ratio\",)\n",
    "plt.xlabel(r\"$\\sigma^2_r$\", fontsize=13)\n",
    "plt.ylabel(\"E(r)\",fontsize=13);\n",
    "plt.scatter(port_vol(w_sharpe,rend),port_rend(w_sharpe,rend),c=\"purple\",label=\"Portafolio óptimo w-sharpe\",s=100,  marker=\"+\")\n",
    "plt.legend(fontsize=7, loc ='upper left' );"
   ]
  },
  {
   "cell_type": "code",
   "execution_count": 18,
   "metadata": {},
   "outputs": [
    {
     "data": {
      "text/html": [
       "<div>\n",
       "<style scoped>\n",
       "    .dataframe tbody tr th:only-of-type {\n",
       "        vertical-align: middle;\n",
       "    }\n",
       "\n",
       "    .dataframe tbody tr th {\n",
       "        vertical-align: top;\n",
       "    }\n",
       "\n",
       "    .dataframe thead th {\n",
       "        text-align: right;\n",
       "    }\n",
       "</style>\n",
       "<table border=\"1\" class=\"dataframe\">\n",
       "  <thead>\n",
       "    <tr style=\"text-align: right;\">\n",
       "      <th></th>\n",
       "      <th>accion</th>\n",
       "      <th>pesosOptimos</th>\n",
       "    </tr>\n",
       "  </thead>\n",
       "  <tbody>\n",
       "    <tr>\n",
       "      <td>0</td>\n",
       "      <td>WALMEX*</td>\n",
       "      <td>20.120932</td>\n",
       "    </tr>\n",
       "    <tr>\n",
       "      <td>1</td>\n",
       "      <td>IENOVA*</td>\n",
       "      <td>13.074035</td>\n",
       "    </tr>\n",
       "    <tr>\n",
       "      <td>2</td>\n",
       "      <td>CUERVO*</td>\n",
       "      <td>2.686720</td>\n",
       "    </tr>\n",
       "    <tr>\n",
       "      <td>3</td>\n",
       "      <td>ELEKTRA*</td>\n",
       "      <td>4.356188</td>\n",
       "    </tr>\n",
       "    <tr>\n",
       "      <td>4</td>\n",
       "      <td>BIMBOA</td>\n",
       "      <td>19.434568</td>\n",
       "    </tr>\n",
       "    <tr>\n",
       "      <td>5</td>\n",
       "      <td>ALSEA*</td>\n",
       "      <td>10.523384</td>\n",
       "    </tr>\n",
       "    <tr>\n",
       "      <td>6</td>\n",
       "      <td>GFNORTEO</td>\n",
       "      <td>29.804174</td>\n",
       "    </tr>\n",
       "  </tbody>\n",
       "</table>\n",
       "</div>"
      ],
      "text/plain": [
       "     accion  pesosOptimos\n",
       "0   WALMEX*     20.120932\n",
       "1   IENOVA*     13.074035\n",
       "2   CUERVO*      2.686720\n",
       "3  ELEKTRA*      4.356188\n",
       "4    BIMBOA     19.434568\n",
       "5    ALSEA*     10.523384\n",
       "6  GFNORTEO     29.804174"
      ]
     },
     "execution_count": 18,
     "metadata": {},
     "output_type": "execute_result"
    }
   ],
   "source": [
    "#Asignacion de pesos\n",
    "pd.DataFrame({\"accion\": rend.columns.values,\"pesosOptimos\":w_sharpe*100})"
   ]
  },
  {
   "cell_type": "code",
   "execution_count": 21,
   "metadata": {},
   "outputs": [
    {
     "name": "stdout",
     "output_type": "stream",
     "text": [
      "La diversificación constará de 20.80549406343206% porafolio riesoso y 79.19450593656794% libre de riesgo\n"
     ]
    }
   ],
   "source": [
    "#Disribución de mi portafolio\n",
    "A=3\n",
    "PortafolioRiesgoso=(port_rend(w_sharpe,rend)-tLR_a)/(A*port_vol(w_sharpe,rend))*100\n",
    "PortafolioLR=100-PortafolioRiesgoso\n",
    "\n",
    "print(f\"La diversificación constará de {PortafolioRiesgoso}% porafolio riesoso y {PortafolioLR}% libre de riesgo\")\n"
   ]
  },
  {
   "cell_type": "markdown",
   "metadata": {},
   "source": [
    "# Deep Learning"
   ]
  },
  {
   "cell_type": "markdown",
   "metadata": {},
   "source": [
    "### 6. ¿En qué escenarios ocuparías una red neuronal? "
   ]
  },
  {
   "cell_type": "markdown",
   "metadata": {},
   "source": [
    "##### Si enfrentara alguno de los siguientes problemas de reconocimiento y aprendizaje de patrones con un gran volumen de datos:\n",
    "Análisis de sentimiento  \n",
    "Generación de texto  \n",
    "Máquinas de traducción neuronal  \n",
    "Clasificación de imágenes  "
   ]
  },
  {
   "cell_type": "markdown",
   "metadata": {},
   "source": [
    "### 7. ¿En qué escenarios no ocuparías una red neuronal? "
   ]
  },
  {
   "cell_type": "markdown",
   "metadata": {},
   "source": [
    "Cuando no se necesita generar un modelo predictivo. Por ejemplo, en un análisis exploratorio.  \n",
    "Cuando no tenemos gran cantidad de datos."
   ]
  },
  {
   "cell_type": "markdown",
   "metadata": {},
   "source": [
    "### 8. Menciona tres funciones de activación para una red neuronal feed-forward"
   ]
  },
  {
   "cell_type": "markdown",
   "metadata": {},
   "source": [
    "Sigmoide  \n",
    "Tangente Hiperbólica  \n",
    "ReLu  \n",
    "Softmax"
   ]
  },
  {
   "cell_type": "markdown",
   "metadata": {},
   "source": [
    "### 9. ¿Qué es el método de backpropagation?"
   ]
  },
  {
   "cell_type": "markdown",
   "metadata": {},
   "source": [
    "Es un método para entrenar redes neuronales el cual consiste en una vez que se ha aplicado un patrón a la entrada de la red como estímulo, este se propaga desde la primera capa a través de las capas siguientes de la red, hasta generar una salida. La señal de salida se compara con la salida deseada y se calcula una señal de error para cada una de las salidas."
   ]
  },
  {
   "cell_type": "markdown",
   "metadata": {},
   "source": [
    "### 10. ¿En qué difiere una red neuronal feed - forward de una red neuronal convolucional?  "
   ]
  },
  {
   "cell_type": "markdown",
   "metadata": {},
   "source": [
    "En una red neuronal feed-forward las neuronas estan conectados en dirección hacia adelante con la siguiente capa o output aplicando una función de activación, mientras que en las redes convolucionales antes de aplicar la función aplicamos un kernel convolucional."
   ]
  }
 ],
 "metadata": {
  "kernelspec": {
   "display_name": "Python 3",
   "language": "python",
   "name": "python3"
  },
  "language_info": {
   "codemirror_mode": {
    "name": "ipython",
    "version": 3
   },
   "file_extension": ".py",
   "mimetype": "text/x-python",
   "name": "python",
   "nbconvert_exporter": "python",
   "pygments_lexer": "ipython3",
   "version": "3.7.4"
  }
 },
 "nbformat": 4,
 "nbformat_minor": 2
}
